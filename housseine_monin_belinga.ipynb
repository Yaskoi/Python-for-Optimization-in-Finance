{
 "cells": [
  {
   "cell_type": "markdown",
   "id": "3d60ae20",
   "metadata": {},
   "source": [
    "# Python For Optimization in Finance"
   ]
  },
  {
   "cell_type": "markdown",
   "id": "b8dd69af",
   "metadata": {},
   "source": [
    "## Data provided\n",
    "\n",
    "### -105 anonymized ETFs since 2019\n",
    "### -14 historical prices of main financial assets \n",
    "###     -Reginoal "
   ]
  }
 ],
 "metadata": {
  "language_info": {
   "name": "python"
  }
 },
 "nbformat": 4,
 "nbformat_minor": 5
}
