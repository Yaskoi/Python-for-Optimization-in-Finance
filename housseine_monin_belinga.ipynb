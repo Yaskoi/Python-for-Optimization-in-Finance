{
 "cells": [
  {
   "cell_type": "markdown",
   "id": "3d60ae20",
   "metadata": {},
   "source": [
    "# Python For Optimization in Finance"
   ]
  }
 ],
 "metadata": {
  "language_info": {
   "name": "python"
  }
 },
 "nbformat": 4,
 "nbformat_minor": 5
}
