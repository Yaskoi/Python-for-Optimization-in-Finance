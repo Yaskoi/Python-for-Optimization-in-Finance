{
 "cells": [
  {
   "cell_type": "markdown",
   "id": "3d60ae20",
   "metadata": {},
   "source": [
    "# Python For Optimization in Finance"
   ]
  },
  {
   "cell_type": "markdown",
   "id": "b8dd69af",
   "metadata": {},
   "source": [
    "## Data provided\n",
    "\n",
    "### -105 anonymized ETFs since 2019\n",
    "### -14 historical prices of main financial assets \n",
    "###     -Reginoal "
   ]
  },
  {
   "cell_type": "code",
   "execution_count": null,
   "id": "c2fc844a",
   "metadata": {},
   "outputs": [],
   "source": [
    "import numpy as np\n",
    "import pandas as pd"
   ]
  }
 ],
 "metadata": {
  "kernelspec": {
   "display_name": ".venv",
   "language": "python",
   "name": "python3"
  },
  "language_info": {
   "codemirror_mode": {
    "name": "ipython",
    "version": 3
   },
   "file_extension": ".py",
   "mimetype": "text/x-python",
   "name": "python",
   "nbconvert_exporter": "python",
   "pygments_lexer": "ipython3",
   "version": "3.13.0"
  }
 },
 "nbformat": 4,
 "nbformat_minor": 5
}
