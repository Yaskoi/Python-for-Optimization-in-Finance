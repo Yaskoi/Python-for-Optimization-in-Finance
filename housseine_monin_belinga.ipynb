{
 "cells": [
  {
   "cell_type": "markdown",
   "id": "3d60ae20",
   "metadata": {},
   "source": [
    "# Python for Optimization in Finance\n",
    "\n",
    "---\n",
    "\n",
    "**A comprehensive analysis of portfolio optimization strategies using Python**\n",
    "\n",
    "*Financial Engineering & Quantitative Analysis*\n",
    "\n",
    "---"
   ]
  },
  {
   "cell_type": "markdown",
   "id": "b8dd69af",
   "metadata": {},
   "source": [
    "## Data Overview\n",
    "\n",
    "### Available Datasets\n",
    "\n",
    "| **Dataset** | **Description** | **Count** |\n",
    "|-------------|-----------------|-----------|\n",
    "| **ETFs** | Anonymized ETF data since 2019 | **105** |\n",
    "| **Financial Assets** | Historical prices of main asset classes | **14** |\n",
    "\n",
    "### Main Financial Assets Categories\n",
    "\n",
    "- **Regional Sovereign Bonds**\n",
    "- **High Yield (HY) Bonds** \n",
    "- **Commodities**\n",
    "- **Dollar Index**\n",
    "\n",
    "### Allocation Strategies\n",
    "\n",
    " **Two distinct allocation methodologies will be analyzed:**\n",
    "\n",
    "1. **Fixed Allocation Strategy**\n",
    "   - Static allocation among the 105 ETFs\n",
    "   - Constant throughout the entire period\n",
    "\n",
    "2. **Dynamic Allocation Strategy**\n",
    "   - Variable allocation among the 105 ETFs\n",
    "   - Changes over time but with low frequency\n",
    "\n",
    "---"
   ]
  },
  {
   "cell_type": "markdown",
   "id": "0f440c70",
   "metadata": {},
   "source": [
    "## Project Objectives\n",
    "\n",
    "### Key Research Questions\n",
    "\n",
    "1. **ETF Classification Analysis**\n",
    "   - Classify ETFs based on various risk metrics, relationships, and performance criteria\n",
    "   - Identify patterns and clustering among the 105 ETFs\n",
    "\n",
    "2. **Asset Class Relationship Mapping**\n",
    "   - Establish relationships between ETFs and main asset classes\n",
    "   - Identify each ETF's correlation with Regional Sovereign Bonds, HY Bonds, Commodities, and Dollar Index\n",
    "\n",
    "3. **Risk Assessment**\n",
    "   - Determine the risk ranges among the ETFs\n",
    "   - Analyze risk distribution and identify outliers\n",
    "\n",
    "4. **Mystery Allocation Analysis**\n",
    "   - Identify the composition of both fixed and dynamic mystery allocations\n",
    "   - Quantify uncertainty in the allocation results\n",
    "   - Compare performance of both allocation strategies\n",
    "\n",
    "5. **Critical Analysis & Validation**\n",
    "   - Comment on results and methodology\n",
    "   - Identify potential biases in the analysis\n",
    "   - Assess coverage of asset classes among the ETFs\n",
    "   - Highlight any forgotten or underrepresented asset classes\n",
    "\n",
    "---"
   ]
  }
 ],
 "metadata": {
  "kernelspec": {
   "display_name": ".venv",
   "language": "python",
   "name": "python3"
  },
  "language_info": {
   "codemirror_mode": {
    "name": "ipython",
    "version": 3
   },
   "file_extension": ".py",
   "mimetype": "text/x-python",
   "name": "python",
   "nbconvert_exporter": "python",
   "pygments_lexer": "ipython3",
   "version": "3.13.0"
  }
 },
 "nbformat": 4,
 "nbformat_minor": 5
}
